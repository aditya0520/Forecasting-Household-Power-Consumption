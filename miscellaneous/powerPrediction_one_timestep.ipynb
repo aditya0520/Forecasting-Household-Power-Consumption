{
  "cells": [
    {
      "cell_type": "code",
      "source": [
        "# !pip install torchinfo"
      ],
      "metadata": {
        "colab": {
          "base_uri": "https://localhost:8080/"
        },
        "id": "RH8Zas2djczU",
        "outputId": "792f15c9-f69c-4c47-d75c-2ed4f14dea50"
      },
      "id": "RH8Zas2djczU",
      "execution_count": 1,
      "outputs": [
        {
          "output_type": "stream",
          "name": "stdout",
          "text": [
            "Collecting torchinfo\n",
            "  Downloading torchinfo-1.8.0-py3-none-any.whl.metadata (21 kB)\n",
            "Downloading torchinfo-1.8.0-py3-none-any.whl (23 kB)\n",
            "Installing collected packages: torchinfo\n",
            "Successfully installed torchinfo-1.8.0\n"
          ]
        }
      ]
    },
    {
      "cell_type": "code",
      "execution_count": 1,
      "id": "beaf4427-43e1-467c-bef2-19154fcbe749",
      "metadata": {
        "id": "beaf4427-43e1-467c-bef2-19154fcbe749"
      },
      "outputs": [],
      "source": [
        "import pandas as pd\n",
        "import numpy as np\n",
        "from tqdm import tqdm\n",
        "from sklearn.preprocessing import MinMaxScaler\n",
        "from torch.utils.data import Dataset\n",
        "from sklearn.model_selection import train_test_split\n",
        "from torch.utils.data import DataLoader\n",
        "from torch.optim import Adam\n",
        "from sklearn.metrics import mean_absolute_error, mean_squared_error\n",
        "import torch\n",
        "import joblib\n",
        "import torch.nn as nn\n",
        "import matplotlib.pyplot as plt\n",
        "from torchinfo import summary"
      ]
    },
    {
      "cell_type": "code",
      "execution_count": 2,
      "id": "161e02bd-4346-48d2-994e-d49a8924cd9a",
      "metadata": {
        "id": "161e02bd-4346-48d2-994e-d49a8924cd9a"
      },
      "outputs": [],
      "source": [
        "device = torch.device(\"cuda\" if torch.cuda.is_available() else \"cpu\")"
      ]
    },
    {
      "cell_type": "code",
      "execution_count": 4,
      "id": "dfdc9445-28a3-4592-ba7b-13b4075a8f56",
      "metadata": {
        "colab": {
          "base_uri": "https://localhost:8080/"
        },
        "id": "dfdc9445-28a3-4592-ba7b-13b4075a8f56",
        "outputId": "ddc4f553-9a61-42d9-bacf-8529ef41ebf0"
      },
      "outputs": [
        {
          "output_type": "stream",
          "name": "stderr",
          "text": [
            "<ipython-input-4-05f0fab8b720>:5: FutureWarning: Support for nested sequences for 'parse_dates' in pd.read_csv is deprecated. Combine the desired columns with pd.to_datetime after parsing instead.\n",
            "  df = pd.read_csv(\n",
            "<ipython-input-4-05f0fab8b720>:5: FutureWarning: The argument 'infer_datetime_format' is deprecated and will be removed in a future version. A strict version of it is now the default, see https://pandas.pydata.org/pdeps/0004-consistent-to-datetime-parsing.html. You can safely remove this argument.\n",
            "  df = pd.read_csv(\n",
            "<ipython-input-4-05f0fab8b720>:5: UserWarning: Parsing dates in %d/%m/%Y %H:%M:%S format when dayfirst=False (the default) was specified. Pass `dayfirst=True` or specify a format to silence this warning.\n",
            "  df = pd.read_csv(\n"
          ]
        }
      ],
      "source": [
        "# Specify the file name\n",
        "file_name = \"household_power_consumption.txt\"  # Replace with your actual file name\n",
        "\n",
        "# Read the data into a DataFrame\n",
        "df = pd.read_csv(\n",
        "    file_name,\n",
        "    sep=';',  # Specify the delimiter\n",
        "    parse_dates={'DateTime': ['Date', 'Time']},  # Combine 'Date' and 'Time' into 'DateTime'\n",
        "    infer_datetime_format=True,  # Infer the datetime format for better performance\n",
        "    low_memory=False  # Handle large files efficiently\n",
        ")\n"
      ]
    },
    {
      "cell_type": "code",
      "execution_count": 5,
      "id": "f2fe2647-bbd8-4339-abd0-79ee9bb7408b",
      "metadata": {
        "colab": {
          "base_uri": "https://localhost:8080/"
        },
        "id": "f2fe2647-bbd8-4339-abd0-79ee9bb7408b",
        "outputId": "00a96fab-440a-49d5-cde9-9d91b5021c29"
      },
      "outputs": [
        {
          "output_type": "execute_result",
          "data": {
            "text/plain": [
              "(2075259, 8)"
            ]
          },
          "metadata": {},
          "execution_count": 5
        }
      ],
      "source": [
        "df.shape"
      ]
    },
    {
      "cell_type": "code",
      "execution_count": 6,
      "id": "7204e424-740b-4d7c-8d07-f04c65d89773",
      "metadata": {
        "colab": {
          "base_uri": "https://localhost:8080/"
        },
        "id": "7204e424-740b-4d7c-8d07-f04c65d89773",
        "outputId": "367e4c53-1102-45cb-98dd-9593ecc40d19"
      },
      "outputs": [
        {
          "output_type": "execute_result",
          "data": {
            "text/plain": [
              "(2049280, 8)"
            ]
          },
          "metadata": {},
          "execution_count": 6
        }
      ],
      "source": [
        "df['Global_active_power'] = pd.to_numeric(df['Global_active_power'], errors='coerce')\n",
        "df = df.dropna()\n",
        "df.shape"
      ]
    },
    {
      "cell_type": "code",
      "execution_count": 7,
      "id": "a9ff8cb5-31a2-4612-9ac5-263f02dabf71",
      "metadata": {
        "colab": {
          "base_uri": "https://localhost:8080/",
          "height": 563
        },
        "id": "a9ff8cb5-31a2-4612-9ac5-263f02dabf71",
        "outputId": "192228d7-4c74-4199-ec0c-9488dab51f62"
      },
      "outputs": [
        {
          "output_type": "display_data",
          "data": {
            "text/plain": [
              "<Figure size 1000x600 with 1 Axes>"
            ],
            "image/png": "[encoded data removed]"
          },
          "metadata": {}
        }
      ],
      "source": [
        "import matplotlib.pyplot as plt\n",
        "\n",
        "df['Global_active_power'].plot(figsize=(10, 6), title=\"Global Active Power Over Time\")\n",
        "plt.show()\n"
      ]
    },
    {
      "cell_type": "code",
      "execution_count": 8,
      "id": "8915bcad-3dde-4fda-8ade-c23fda06d3fc",
      "metadata": {
        "colab": {
          "base_uri": "https://localhost:8080/"
        },
        "id": "8915bcad-3dde-4fda-8ade-c23fda06d3fc",
        "outputId": "513be31f-0b61-40ce-8e9e-467e0a44a03d"
      },
      "outputs": [
        {
          "output_type": "stream",
          "name": "stdout",
          "text": [
            "1.0       2049208\n",
            "2.0            38\n",
            "3.0            14\n",
            "4.0             2\n",
            "3724.0          1\n",
            "Name: count, dtype: int64\n"
          ]
        }
      ],
      "source": [
        "# Calculate time differences between consecutive rows\n",
        "time_diffs = df.index.to_series().diff()\n",
        "\n",
        "# Check the most common interval\n",
        "print(time_diffs.value_counts().head())  # Most frequent time intervals\n"
      ]
    },
    {
      "cell_type": "code",
      "execution_count": 9,
      "id": "1f6515a1-37ac-4b51-b678-4cd170f88cc5",
      "metadata": {
        "id": "1f6515a1-37ac-4b51-b678-4cd170f88cc5"
      },
      "outputs": [],
      "source": [
        "df['DateTime'] = pd.to_datetime(df['DateTime'])  # Convert to datetime if not already\n",
        "df.set_index('DateTime', inplace=True)"
      ]
    },
    {
      "cell_type": "code",
      "execution_count": 10,
      "id": "92b91a33-bcf6-486f-b367-8a1b609ca01b",
      "metadata": {
        "colab": {
          "base_uri": "https://localhost:8080/"
        },
        "id": "92b91a33-bcf6-486f-b367-8a1b609ca01b",
        "outputId": "4c45835b-0fb9-4d50-efa4-e400abc9a448"
      },
      "outputs": [
        {
          "output_type": "stream",
          "name": "stdout",
          "text": [
            "DatetimeIndex(['2006-12-16 17:24:00', '2006-12-16 17:25:00',\n",
            "               '2006-12-16 17:26:00', '2006-12-16 17:27:00',\n",
            "               '2006-12-16 17:28:00', '2006-12-16 17:29:00',\n",
            "               '2006-12-16 17:30:00', '2006-12-16 17:31:00',\n",
            "               '2006-12-16 17:32:00', '2006-12-16 17:33:00',\n",
            "               ...\n",
            "               '2010-11-26 20:53:00', '2010-11-26 20:54:00',\n",
            "               '2010-11-26 20:55:00', '2010-11-26 20:56:00',\n",
            "               '2010-11-26 20:57:00', '2010-11-26 20:58:00',\n",
            "               '2010-11-26 20:59:00', '2010-11-26 21:00:00',\n",
            "               '2010-11-26 21:01:00', '2010-11-26 21:02:00'],\n",
            "              dtype='datetime64[ns]', name='DateTime', length=2049280, freq=None)\n",
            "<class 'pandas.core.indexes.datetimes.DatetimeIndex'>\n"
          ]
        }
      ],
      "source": [
        "print(df.index)  # Check the values of the index\n",
        "print(type(df.index))"
      ]
    },
    {
      "cell_type": "code",
      "execution_count": 11,
      "id": "85fe9583-da05-4174-bf1a-a7d7c895ec52",
      "metadata": {
        "colab": {
          "base_uri": "https://localhost:8080/"
        },
        "id": "85fe9583-da05-4174-bf1a-a7d7c895ec52",
        "outputId": "d984da59-e2f0-4db1-8c77-bc39e6589445"
      },
      "outputs": [
        {
          "output_type": "stream",
          "name": "stderr",
          "text": [
            "<ipython-input-11-aa8659d8efc4>:2: FutureWarning: 'T' is deprecated and will be removed in a future version, please use 'min' instead.\n",
            "  full_index = pd.date_range(start=df.index.min(), end=df.index.max(), freq='T')  # Continuous 1-min intervals\n"
          ]
        }
      ],
      "source": [
        "# Create a full range of 1-minute intervals\n",
        "full_index = pd.date_range(start=df.index.min(), end=df.index.max(), freq='T')  # Continuous 1-min intervals\n",
        "df = df.reindex(full_index)"
      ]
    },
    {
      "cell_type": "code",
      "execution_count": 12,
      "id": "68de5785-cfde-4330-a07b-db4978e456d5",
      "metadata": {
        "id": "68de5785-cfde-4330-a07b-db4978e456d5"
      },
      "outputs": [],
      "source": [
        "# Interpolate missing values using time-based interpolation\n",
        "df['Global_active_power'] = df['Global_active_power'].interpolate(method='time')\n"
      ]
    },
    {
      "cell_type": "code",
      "execution_count": 13,
      "id": "13092b89-56ae-40a3-97aa-808b8507cf85",
      "metadata": {
        "colab": {
          "base_uri": "https://localhost:8080/"
        },
        "id": "13092b89-56ae-40a3-97aa-808b8507cf85",
        "outputId": "ce7b6168-7f33-4f45-f973-29f7ec4b8b08"
      },
      "outputs": [
        {
          "output_type": "stream",
          "name": "stdout",
          "text": [
            "(2075259, 7)\n",
            "                     Global_active_power Global_reactive_power  Voltage  \\\n",
            "2006-12-16 17:24:00                4.216                 0.418  234.840   \n",
            "2006-12-16 17:25:00                5.360                 0.436  233.630   \n",
            "2006-12-16 17:26:00                5.374                 0.498  233.290   \n",
            "2006-12-16 17:27:00                5.388                 0.502  233.740   \n",
            "2006-12-16 17:28:00                3.666                 0.528  235.680   \n",
            "\n",
            "                    Global_intensity Sub_metering_1 Sub_metering_2  \\\n",
            "2006-12-16 17:24:00           18.400          0.000          1.000   \n",
            "2006-12-16 17:25:00           23.000          0.000          1.000   \n",
            "2006-12-16 17:26:00           23.000          0.000          2.000   \n",
            "2006-12-16 17:27:00           23.000          0.000          1.000   \n",
            "2006-12-16 17:28:00           15.800          0.000          1.000   \n",
            "\n",
            "                     Sub_metering_3  \n",
            "2006-12-16 17:24:00            17.0  \n",
            "2006-12-16 17:25:00            16.0  \n",
            "2006-12-16 17:26:00            17.0  \n",
            "2006-12-16 17:27:00            17.0  \n",
            "2006-12-16 17:28:00            17.0  \n"
          ]
        }
      ],
      "source": [
        "# Check the shape of the DataFrame\n",
        "print(df.shape)  # The number of rows should now match the length of full_index\n",
        "\n",
        "# Inspect the first and last few rows\n",
        "print(df.head())"
      ]
    },
    {
      "cell_type": "code",
      "execution_count": 14,
      "id": "ab295c2e-1c65-439d-91c0-4f6c195efc8e",
      "metadata": {
        "id": "ab295c2e-1c65-439d-91c0-4f6c195efc8e"
      },
      "outputs": [],
      "source": [
        "df['DateTime'] = df.index\n",
        "df['DayOfWeek'] = df['DateTime'].dt.dayofweek\n",
        "df['Year'] = df['DateTime'].dt.year\n",
        "\n",
        "# Normalize or encode periodic features\n",
        "df['DayOfWeek_sin'] = np.sin(2 * np.pi * df['DayOfWeek'] / 7)\n",
        "df['DayOfWeek_cos'] = np.cos(2 * np.pi * df['DayOfWeek'] / 7)\n",
        "\n",
        "df['Year_sin'] = np.sin(2 * np.pi * (df['Year'] - df['Year'].min()) / (df['Year'].max() - df['Year'].min()))\n",
        "df['Year_cos'] = np.cos(2 * np.pi * (df['Year'] - df['Year'].min()) / (df['Year'].max() - df['Year'].min()))"
      ]
    },
    {
      "cell_type": "code",
      "execution_count": 15,
      "id": "abbb34df-0e3c-403b-b8fc-d59f4d969bb4",
      "metadata": {
        "colab": {
          "base_uri": "https://localhost:8080/"
        },
        "id": "abbb34df-0e3c-403b-b8fc-d59f4d969bb4",
        "outputId": "ff47bc20-4fe3-4345-b340-e3941a066950"
      },
      "outputs": [
        {
          "output_type": "execute_result",
          "data": {
            "text/plain": [
              "(2075259, 14)"
            ]
          },
          "metadata": {},
          "execution_count": 15
        }
      ],
      "source": [
        "df.shape"
      ]
    },
    {
      "cell_type": "code",
      "execution_count": 16,
      "id": "769fa282-c6e7-4e95-aa81-3c4de7fa3a4f",
      "metadata": {
        "colab": {
          "base_uri": "https://localhost:8080/"
        },
        "id": "769fa282-c6e7-4e95-aa81-3c4de7fa3a4f",
        "outputId": "86544bb6-610f-4a0a-f273-88e907e193b7"
      },
      "outputs": [
        {
          "output_type": "execute_result",
          "data": {
            "text/plain": [
              "Index(['Global_active_power', 'Global_reactive_power', 'Voltage',\n",
              "       'Global_intensity', 'Sub_metering_1', 'Sub_metering_2',\n",
              "       'Sub_metering_3', 'DateTime', 'DayOfWeek', 'Year', 'DayOfWeek_sin',\n",
              "       'DayOfWeek_cos', 'Year_sin', 'Year_cos'],\n",
              "      dtype='object')"
            ]
          },
          "metadata": {},
          "execution_count": 16
        }
      ],
      "source": [
        "df.columns"
      ]
    },
    {
      "cell_type": "code",
      "execution_count": 17,
      "id": "fa5110d8-b740-4add-834b-19b0e4b9bd3c",
      "metadata": {
        "id": "fa5110d8-b740-4add-834b-19b0e4b9bd3c"
      },
      "outputs": [],
      "source": [
        "# Assuming `df` is your DataFrame\n",
        "scaler = MinMaxScaler()\n",
        "\n",
        "# Scale only the 'Global_active_power' column\n",
        "df['Global_active_power_scaled'] = scaler.fit_transform(df[['Global_active_power']])\n",
        "\n",
        "# Prepare the final DataFrame for LSTM\n",
        "# Drop the original 'Global_active_power' if not needed\n",
        "scaled_data = df[['Global_active_power_scaled', 'DayOfWeek_sin', 'DayOfWeek_cos',\n",
        "                  'Year_sin', 'Year_cos']].to_numpy()"
      ]
    },
    {
      "cell_type": "code",
      "execution_count": 18,
      "id": "55260d40-0c79-4cfb-bbff-5b2ec8453354",
      "metadata": {
        "colab": {
          "base_uri": "https://localhost:8080/"
        },
        "id": "55260d40-0c79-4cfb-bbff-5b2ec8453354",
        "outputId": "37f3d6be-c7a9-41ed-863d-eef8d48f40f5"
      },
      "outputs": [
        {
          "output_type": "stream",
          "name": "stdout",
          "text": [
            "(2075259, 5)\n"
          ]
        },
        {
          "output_type": "execute_result",
          "data": {
            "text/plain": [
              "['scaler.pkl']"
            ]
          },
          "metadata": {},
          "execution_count": 18
        }
      ],
      "source": [
        "print(scaled_data.shape)\n",
        "np.save(\"scaled_data.npy\", scaled_data)\n",
        "joblib.dump(scaler, \"scaler.pkl\")"
      ]
    },
    {
      "cell_type": "markdown",
      "source": [
        "**`Training`**"
      ],
      "metadata": {
        "id": "nigLKbwgJ-9k"
      },
      "id": "nigLKbwgJ-9k"
    },
    {
      "cell_type": "code",
      "source": [
        "scaler = joblib.load(\"scaler.pkl\")\n",
        "scaled_data = np.load(\"scaled_data.npy\")\n",
        "print(\"scaled_data loaded:\")"
      ],
      "metadata": {
        "colab": {
          "base_uri": "https://localhost:8080/"
        },
        "id": "sqd8Ssrh4Spb",
        "outputId": "a74205bc-6310-4891-a1a5-2409202c7df5"
      },
      "id": "sqd8Ssrh4Spb",
      "execution_count": 3,
      "outputs": [
        {
          "output_type": "stream",
          "name": "stdout",
          "text": [
            "scaled_data loaded:\n"
          ]
        }
      ]
    },
    {
      "cell_type": "code",
      "execution_count": 4,
      "id": "72742269-a9d0-4a8c-84a6-5c337df0acc6",
      "metadata": {
        "id": "72742269-a9d0-4a8c-84a6-5c337df0acc6"
      },
      "outputs": [],
      "source": [
        "class TimeSeriesDataset(Dataset):\n",
        "    def __init__(self, data, seq_length):\n",
        "\n",
        "        self.seq_length = seq_length\n",
        "        self.data = data\n",
        "        self.X, self.y = self.create_sequences(data, seq_length)\n",
        "\n",
        "    def create_sequences(self, data, seq_length):\n",
        "\n",
        "        X, y = [], []\n",
        "        for i in tqdm(range(0, len(data) - seq_length), desc=\"Creating sequences\"):\n",
        "            X.append(data[i:i + seq_length, :])  # Input sequence\n",
        "            y.append(data[i + seq_length, 0])  # Target values\n",
        "        return np.array(X), np.array(y)\n",
        "\n",
        "    def __len__(self):\n",
        "\n",
        "        return len(self.X)\n",
        "\n",
        "    def __getitem__(self, idx):\n",
        "\n",
        "        return torch.tensor(self.X[idx], dtype=torch.float32), torch.tensor(self.y[idx], dtype=torch.float32)"
      ]
    },
    {
      "cell_type": "code",
      "execution_count": 5,
      "id": "eaa0be0a-9635-4c7b-9635-71fe5aea46d5",
      "metadata": {
        "id": "eaa0be0a-9635-4c7b-9635-71fe5aea46d5"
      },
      "outputs": [],
      "source": [
        "train_size = int(len(scaled_data) * 0.8)\n",
        "train_data = scaled_data[:train_size]\n",
        "test_data = scaled_data[train_size:]\n",
        "seq_length =  480\n"
      ]
    },
    {
      "cell_type": "code",
      "execution_count": 6,
      "id": "54d7599d-6f32-4595-aee9-366e15a41c55",
      "metadata": {
        "colab": {
          "base_uri": "https://localhost:8080/"
        },
        "id": "54d7599d-6f32-4595-aee9-366e15a41c55",
        "outputId": "83607564-5305-4e32-e229-484712564a14"
      },
      "outputs": [
        {
          "output_type": "stream",
          "name": "stderr",
          "text": [
            "Creating sequences: 100%|██████████| 1659727/1659727 [00:01<00:00, 1093652.61it/s]\n",
            "Creating sequences: 100%|██████████| 414572/414572 [00:00<00:00, 1279370.45it/s]\n"
          ]
        }
      ],
      "source": [
        "train_dataset = TimeSeriesDataset(train_data, seq_length)\n",
        "test_dataset = TimeSeriesDataset(test_data, seq_length)\n",
        "\n",
        "# Create DataLoaders\n",
        "batch_size = 2048\n",
        "train_loader = DataLoader(train_dataset, batch_size=batch_size, shuffle=True, num_workers=4)\n",
        "test_loader = DataLoader(test_dataset, batch_size=batch_size, shuffle=False, num_workers=4)"
      ]
    },
    {
      "cell_type": "code",
      "execution_count": 7,
      "id": "1cbe0f85-0509-4259-acd9-e7b6e7205e5f",
      "metadata": {
        "colab": {
          "base_uri": "https://localhost:8080/"
        },
        "id": "1cbe0f85-0509-4259-acd9-e7b6e7205e5f",
        "outputId": "9ccbfed2-9831-418b-c616-150dc5385435"
      },
      "outputs": [
        {
          "output_type": "stream",
          "name": "stdout",
          "text": [
            "Train Batch X shape: torch.Size([2048, 480, 5])\n",
            "Train Batch y shape: torch.Size([2048])\n",
            "Test Batch X shape: torch.Size([2048, 480, 5])\n",
            "Test Batch y shape: torch.Size([2048])\n"
          ]
        }
      ],
      "source": [
        "for batch_X, batch_y in train_loader:\n",
        "    print(f\"Train Batch X shape: {batch_X.shape}\")  # (batch_size, seq_length, num_features)\n",
        "    print(f\"Train Batch y shape: {batch_y.shape}\")  # (batch_size, prediction_horizon)\n",
        "    break\n",
        "\n",
        "# Example: Iterate through the test DataLoader\n",
        "for batch_X, batch_y in test_loader:\n",
        "    print(f\"Test Batch X shape: {batch_X.shape}\")  # (batch_size, seq_length, num_features)\n",
        "    print(f\"Test Batch y shape: {batch_y.shape}\")  # (batch_size, prediction_horizon)\n",
        "    break"
      ]
    },
    {
      "cell_type": "code",
      "execution_count": 8,
      "id": "fb719d56-ae68-46ee-b52d-1f74f7b42acd",
      "metadata": {
        "id": "fb719d56-ae68-46ee-b52d-1f74f7b42acd"
      },
      "outputs": [],
      "source": [
        "class Model(nn.Module):\n",
        "    def __init__(self, input_size, hidden_size, num_layers, fcc_intermdeiate, prediction_horizon=1):\n",
        "        super(Model, self).__init__()\n",
        "        self.hidden_size = hidden_size\n",
        "        self.num_layers = num_layers\n",
        "\n",
        "        self.lstm = nn.LSTM(input_size, hidden_size, num_layers, batch_first=True)\n",
        "\n",
        "        self.fc1 = nn.Linear(hidden_size, fcc_intermdeiate)\n",
        "\n",
        "        self.reul = nn.ReLU()\n",
        "\n",
        "        self.fc2 = nn.Linear(fcc_intermdeiate, prediction_horizon)\n",
        "\n",
        "    def forward(self, x):\n",
        "        out, _ = self.lstm(x)\n",
        "\n",
        "        out = self.fc1(out[:, -1, :])\n",
        "\n",
        "        out = self.reul(out)\n",
        "\n",
        "        out = self.fc2(out)\n",
        "\n",
        "        return out.squeeze()\n"
      ]
    },
    {
      "cell_type": "code",
      "execution_count": 9,
      "id": "85b0cfef-f727-4719-a15c-acc45a4044db",
      "metadata": {
        "colab": {
          "base_uri": "https://localhost:8080/"
        },
        "id": "85b0cfef-f727-4719-a15c-acc45a4044db",
        "outputId": "ec4754c9-1223-42f2-c69e-5053bcf3f6c4"
      },
      "outputs": [
        {
          "output_type": "execute_result",
          "data": {
            "text/plain": [
              "==========================================================================================\n",
              "Layer (type:depth-idx)                   Output Shape              Param #\n",
              "==========================================================================================\n",
              "Model                                    [2048]                    --\n",
              "├─LSTM: 1-1                              [2048, 480, 64]           51,456\n",
              "├─Linear: 1-2                            [2048, 8]                 520\n",
              "├─ReLU: 1-3                              [2048, 8]                 --\n",
              "├─Linear: 1-4                            [2048, 1]                 9\n",
              "==========================================================================================\n",
              "Total params: 51,985\n",
              "Trainable params: 51,985\n",
              "Non-trainable params: 0\n",
              "Total mult-adds (G): 50.58\n",
              "==========================================================================================\n",
              "Input size (MB): 19.66\n",
              "Forward/backward pass size (MB): 503.46\n",
              "Params size (MB): 0.21\n",
              "Estimated Total Size (MB): 523.33\n",
              "=========================================================================================="
            ]
          },
          "metadata": {},
          "execution_count": 9
        }
      ],
      "source": [
        "input_size = 5  # Number of features\n",
        "hidden_size = 64\n",
        "num_layers = 2\n",
        "model = Model(input_size, hidden_size, num_layers, fcc_intermdeiate=8).to(device)\n",
        "\n",
        "# Generate summary\n",
        "summary(model, input_data=batch_X.to(device))"
      ]
    },
    {
      "cell_type": "code",
      "execution_count": 10,
      "id": "c8d893f5-c40f-4ad6-ba2c-d5d911c65524",
      "metadata": {
        "id": "c8d893f5-c40f-4ad6-ba2c-d5d911c65524"
      },
      "outputs": [],
      "source": [
        "def train_epoch(model, train_loader, criterion, optimizer, device):\n",
        "\n",
        "    model.train()\n",
        "    train_loss = 0.0\n",
        "    for batch_X, batch_y in tqdm(train_loader, desc=\"Training\"):\n",
        "        batch_X, batch_y = batch_X.to(device), batch_y.to(device)\n",
        "\n",
        "        # Forward pass\n",
        "        outputs = model(batch_X)\n",
        "        loss = criterion(outputs, batch_y)\n",
        "\n",
        "        # Backward pass and optimization\n",
        "        optimizer.zero_grad()\n",
        "        loss.backward()\n",
        "        optimizer.step()\n",
        "\n",
        "        train_loss += loss.item()\n",
        "\n",
        "    return train_loss / len(train_loader)\n",
        "\n",
        "\n",
        "def val_epoch(model, val_loader, criterion, device):\n",
        "\n",
        "    model.eval()\n",
        "    val_loss = 0.0\n",
        "    test_predictions = []\n",
        "    test_targets = []\n",
        "\n",
        "    with torch.no_grad():\n",
        "        for batch_X, batch_y in tqdm(val_loader, desc=\"Validation\"):\n",
        "            batch_X, batch_y = batch_X.to(device), batch_y.to(device)\n",
        "\n",
        "            outputs = model(batch_X)\n",
        "            loss = criterion(outputs, batch_y)\n",
        "\n",
        "            val_loss += loss.item()\n",
        "\n",
        "            test_predictions.append(outputs.cpu().numpy())\n",
        "            test_targets.append(batch_y.cpu().numpy())\n",
        "\n",
        "    test_predictions = np.concatenate(test_predictions, axis=0)\n",
        "    test_targets = np.concatenate(test_targets, axis=0)\n",
        "\n",
        "    return val_loss / len(val_loader), test_predictions, test_targets\n",
        "\n"
      ]
    },
    {
      "cell_type": "code",
      "execution_count": 11,
      "id": "911a5600-36bf-40e8-bac9-bc50a54f85d2",
      "metadata": {
        "colab": {
          "base_uri": "https://localhost:8080/",
          "height": 680
        },
        "id": "911a5600-36bf-40e8-bac9-bc50a54f85d2",
        "outputId": "36fc2c52-dab5-4eb7-f1cb-5009fa655d6e"
      },
      "outputs": [
        {
          "output_type": "stream",
          "name": "stderr",
          "text": [
            "Training: 100%|██████████| 811/811 [02:15<00:00,  5.98it/s]\n",
            "Validation: 100%|██████████| 203/203 [00:12<00:00, 15.74it/s]\n"
          ]
        },
        {
          "output_type": "stream",
          "name": "stdout",
          "text": [
            "Epoch [1/10], Train Loss: 0.0052, Val Loss: 0.0014\n"
          ]
        },
        {
          "output_type": "stream",
          "name": "stderr",
          "text": [
            "Training: 100%|██████████| 811/811 [02:24<00:00,  5.59it/s]\n",
            "Validation: 100%|██████████| 203/203 [00:13<00:00, 15.59it/s]\n"
          ]
        },
        {
          "output_type": "stream",
          "name": "stdout",
          "text": [
            "Epoch [2/10], Train Loss: 0.0013, Val Loss: 0.0007\n"
          ]
        },
        {
          "output_type": "stream",
          "name": "stderr",
          "text": [
            "Training: 100%|██████████| 811/811 [02:27<00:00,  5.48it/s]\n",
            "Validation: 100%|██████████| 203/203 [00:12<00:00, 15.73it/s]\n"
          ]
        },
        {
          "output_type": "stream",
          "name": "stdout",
          "text": [
            "Epoch [3/10], Train Loss: 0.0009, Val Loss: 0.0005\n"
          ]
        },
        {
          "output_type": "stream",
          "name": "stderr",
          "text": [
            "Training: 100%|██████████| 811/811 [02:26<00:00,  5.55it/s]\n",
            "Validation: 100%|██████████| 203/203 [00:12<00:00, 15.77it/s]\n"
          ]
        },
        {
          "output_type": "stream",
          "name": "stdout",
          "text": [
            "Epoch [4/10], Train Loss: 0.0007, Val Loss: 0.0004\n"
          ]
        },
        {
          "output_type": "stream",
          "name": "stderr",
          "text": [
            "Training: 100%|██████████| 811/811 [02:27<00:00,  5.50it/s]\n",
            "Validation: 100%|██████████| 203/203 [00:12<00:00, 15.79it/s]\n"
          ]
        },
        {
          "output_type": "stream",
          "name": "stdout",
          "text": [
            "Epoch [5/10], Train Loss: 0.0006, Val Loss: 0.0004\n"
          ]
        },
        {
          "output_type": "stream",
          "name": "stderr",
          "text": [
            "Training: 100%|██████████| 811/811 [02:27<00:00,  5.49it/s]\n",
            "Validation: 100%|██████████| 203/203 [00:12<00:00, 15.73it/s]\n"
          ]
        },
        {
          "output_type": "stream",
          "name": "stdout",
          "text": [
            "Epoch [6/10], Train Loss: 0.0006, Val Loss: 0.0004\n"
          ]
        },
        {
          "output_type": "stream",
          "name": "stderr",
          "text": [
            "Training:   6%|▌         | 47/811 [00:09<02:32,  5.00it/s]\n"
          ]
        },
        {
          "output_type": "error",
          "ename": "KeyboardInterrupt",
          "evalue": "",
          "traceback": [
            "\u001b[0;31m---------------------------------------------------------------------------\u001b[0m",
            "\u001b[0;31mKeyboardInterrupt\u001b[0m                         Traceback (most recent call last)",
            "\u001b[0;32m<ipython-input-11-ed6cec619417>\u001b[0m in \u001b[0;36m<cell line: 11>\u001b[0;34m()\u001b[0m\n\u001b[1;32m     11\u001b[0m \u001b[0;32mfor\u001b[0m \u001b[0mepoch\u001b[0m \u001b[0;32min\u001b[0m \u001b[0mrange\u001b[0m\u001b[0;34m(\u001b[0m\u001b[0mnum_epochs\u001b[0m\u001b[0;34m)\u001b[0m\u001b[0;34m:\u001b[0m\u001b[0;34m\u001b[0m\u001b[0;34m\u001b[0m\u001b[0m\n\u001b[1;32m     12\u001b[0m     \u001b[0;31m# Train for one epoch\u001b[0m\u001b[0;34m\u001b[0m\u001b[0;34m\u001b[0m\u001b[0m\n\u001b[0;32m---> 13\u001b[0;31m     \u001b[0mavg_train_loss\u001b[0m \u001b[0;34m=\u001b[0m \u001b[0mtrain_epoch\u001b[0m\u001b[0;34m(\u001b[0m\u001b[0mmodel\u001b[0m\u001b[0;34m,\u001b[0m \u001b[0mtrain_loader\u001b[0m\u001b[0;34m,\u001b[0m \u001b[0mcriterion\u001b[0m\u001b[0;34m,\u001b[0m \u001b[0moptimizer\u001b[0m\u001b[0;34m,\u001b[0m \u001b[0mdevice\u001b[0m\u001b[0;34m)\u001b[0m\u001b[0;34m\u001b[0m\u001b[0;34m\u001b[0m\u001b[0m\n\u001b[0m\u001b[1;32m     14\u001b[0m     \u001b[0mtrain_losses\u001b[0m\u001b[0;34m.\u001b[0m\u001b[0mappend\u001b[0m\u001b[0;34m(\u001b[0m\u001b[0mavg_train_loss\u001b[0m\u001b[0;34m)\u001b[0m\u001b[0;34m\u001b[0m\u001b[0;34m\u001b[0m\u001b[0m\n\u001b[1;32m     15\u001b[0m \u001b[0;34m\u001b[0m\u001b[0m\n",
            "\u001b[0;32m<ipython-input-10-ec81a7634fa6>\u001b[0m in \u001b[0;36mtrain_epoch\u001b[0;34m(model, train_loader, criterion, optimizer, device)\u001b[0m\n\u001b[1;32m     15\u001b[0m         \u001b[0moptimizer\u001b[0m\u001b[0;34m.\u001b[0m\u001b[0mstep\u001b[0m\u001b[0;34m(\u001b[0m\u001b[0;34m)\u001b[0m\u001b[0;34m\u001b[0m\u001b[0;34m\u001b[0m\u001b[0m\n\u001b[1;32m     16\u001b[0m \u001b[0;34m\u001b[0m\u001b[0m\n\u001b[0;32m---> 17\u001b[0;31m         \u001b[0mtrain_loss\u001b[0m \u001b[0;34m+=\u001b[0m \u001b[0mloss\u001b[0m\u001b[0;34m.\u001b[0m\u001b[0mitem\u001b[0m\u001b[0;34m(\u001b[0m\u001b[0;34m)\u001b[0m\u001b[0;34m\u001b[0m\u001b[0;34m\u001b[0m\u001b[0m\n\u001b[0m\u001b[1;32m     18\u001b[0m \u001b[0;34m\u001b[0m\u001b[0m\n\u001b[1;32m     19\u001b[0m     \u001b[0;32mreturn\u001b[0m \u001b[0mtrain_loss\u001b[0m \u001b[0;34m/\u001b[0m \u001b[0mlen\u001b[0m\u001b[0;34m(\u001b[0m\u001b[0mtrain_loader\u001b[0m\u001b[0;34m)\u001b[0m\u001b[0;34m\u001b[0m\u001b[0;34m\u001b[0m\u001b[0m\n",
            "\u001b[0;31mKeyboardInterrupt\u001b[0m: "
          ]
        }
      ],
      "source": [
        "learning_rate = 0.0001\n",
        "num_epochs = 10\n",
        "\n",
        "criterion = nn.MSELoss()\n",
        "optimizer = Adam(model.parameters(), lr=learning_rate)\n",
        "\n",
        "# Training and Validation\n",
        "train_losses = []\n",
        "val_losses = []\n",
        "\n",
        "for epoch in range(num_epochs):\n",
        "    # Train for one epoch\n",
        "    avg_train_loss = train_epoch(model, train_loader, criterion, optimizer, device)\n",
        "    train_losses.append(avg_train_loss)\n",
        "\n",
        "    # Validate for one epoch\n",
        "    avg_val_loss, test_predictions, test_targets = val_epoch(model, test_loader, criterion, device)\n",
        "    val_losses.append(avg_val_loss)\n",
        "\n",
        "    # Log epoch results\n",
        "    print(f\"Epoch [{epoch+1}/{num_epochs}], Train Loss: {avg_train_loss:.4f}, Val Loss: {avg_val_loss:.4f}\")\n"
      ]
    },
    {
      "cell_type": "code",
      "execution_count": 12,
      "id": "8bc033cd-8976-4e39-9c78-e5bb2183f134",
      "metadata": {
        "colab": {
          "base_uri": "https://localhost:8080/"
        },
        "id": "8bc033cd-8976-4e39-9c78-e5bb2183f134",
        "outputId": "19a4759a-b0f5-4c53-ec1d-cccfb5427026"
      },
      "outputs": [
        {
          "output_type": "stream",
          "name": "stdout",
          "text": [
            "Mean Absolute Error (MAE): 0.0941\n",
            "Root Mean Squared Error (RMSE): 0.2196\n",
            "Mean Absolute Percentage Error (MAPE): 12.10%\n"
          ]
        }
      ],
      "source": [
        "# Example: Rescaling predictions and targets\n",
        "def evaluate_predictions(scaler, predictions, targets):\n",
        "    \"\"\"\n",
        "    Evaluate the accuracy of predictions by rescaling and computing metrics.\n",
        "\n",
        "    Args:\n",
        "        scaler (MinMaxScaler): Scaler used to normalize the target variable.\n",
        "        predictions (numpy array): Predicted values (scaled).\n",
        "        targets (numpy array): Ground truth values (scaled).\n",
        "\n",
        "    Returns:\n",
        "        dict: Dictionary containing RMSE, MAE, and MAPE metrics.\n",
        "    \"\"\"\n",
        "    # Rescale predictions and targets\n",
        "    predictions_rescaled = scaler.inverse_transform(predictions)\n",
        "    targets_rescaled = scaler.inverse_transform(targets)\n",
        "\n",
        "    # Compute evaluation metrics\n",
        "    mae = mean_absolute_error(targets_rescaled, predictions_rescaled)\n",
        "    rmse = np.sqrt(mean_squared_error(targets_rescaled, predictions_rescaled))\n",
        "    mape = np.mean(np.abs((targets_rescaled - predictions_rescaled) / targets_rescaled)) * 100\n",
        "\n",
        "    return {\n",
        "        \"MAE\": mae,\n",
        "        \"RMSE\": rmse,\n",
        "        \"MAPE\": mape\n",
        "    }\n",
        "\n",
        "# Assuming `test_predictions` and `test_targets` are numpy arrays (scaled values)\n",
        "# Reshape if necessary for inverse_transform\n",
        "test_predictions = test_predictions.reshape(-1, 1)\n",
        "test_targets = test_targets.reshape(-1, 1)\n",
        "\n",
        "metrics = evaluate_predictions(scaler, test_predictions, test_targets)\n",
        "\n",
        "print(f\"Mean Absolute Error (MAE): {metrics['MAE']:.4f}\")\n",
        "print(f\"Root Mean Squared Error (RMSE): {metrics['RMSE']:.4f}\")\n",
        "print(f\"Mean Absolute Percentage Error (MAPE): {metrics['MAPE']:.2f}%\")\n"
      ]
    },
    {
      "cell_type": "code",
      "source": [
        "# Rescale for visualization\n",
        "predictions_rescaled = scaler.inverse_transform(test_predictions)\n",
        "targets_rescaled = scaler.inverse_transform(test_targets)\n",
        "\n",
        "# Plot predictions vs actual values\n",
        "plt.figure(figsize=(10, 6))\n",
        "plt.plot(targets_rescaled[:100], label='Actual')\n",
        "plt.plot(predictions_rescaled[:100], label='Predicted')\n",
        "plt.xlabel('Time Steps')\n",
        "plt.ylabel('Global Active Power')\n",
        "plt.title('Predictions vs Actual')\n",
        "plt.legend()\n",
        "plt.show()"
      ],
      "metadata": {
        "colab": {
          "base_uri": "https://localhost:8080/",
          "height": 564
        },
        "id": "2e0sIqvYCR9A",
        "outputId": "3d25f4aa-161e-4de6-d976-4334095207b5"
      },
      "id": "2e0sIqvYCR9A",
      "execution_count": 13,
      "outputs": [
        {
          "output_type": "display_data",
          "data": {
            "text/plain": [
              "<Figure size 1000x600 with 1 Axes>"
            ],
            "image/png": "[encoded data removed]"
          },
          "metadata": {}
        }
      ]
    },
    {
      "cell_type": "code",
      "source": [],
      "metadata": {
        "id": "mGQQBYGJCSoM"
      },
      "id": "mGQQBYGJCSoM",
      "execution_count": null,
      "outputs": []
    }
  ],
  "metadata": {
    "kernelspec": {
      "display_name": "Python 3 (ipykernel)",
      "language": "python",
      "name": "python3"
    },
    "language_info": {
      "codemirror_mode": {
        "name": "ipython",
        "version": 3
      },
      "file_extension": ".py",
      "mimetype": "text/x-python",
      "name": "python",
      "nbconvert_exporter": "python",
      "pygments_lexer": "ipython3",
      "version": "3.11.5"
    },
    "colab": {
      "provenance": []
    }
  },
  "nbformat": 4,
  "nbformat_minor": 5
}