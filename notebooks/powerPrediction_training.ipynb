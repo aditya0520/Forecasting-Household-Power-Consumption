{
 "cells": [
  {
   "cell_type": "code",
   "execution_count": 1,
   "id": "RH8Zas2djczU",
   "metadata": {
    "id": "RH8Zas2djczU"
   },
   "outputs": [],
   "source": [
    "# !pip install torchinfo\n",
    "# !pip install pytorch-nlp\n",
    "# !pip install wandb"
   ]
  },
  {
   "cell_type": "code",
   "execution_count": 1,
   "id": "beaf4427-43e1-467c-bef2-19154fcbe749",
   "metadata": {
    "id": "beaf4427-43e1-467c-bef2-19154fcbe749"
   },
   "outputs": [],
   "source": [
    "import pandas as pd\n",
    "import numpy as np\n",
    "from tqdm import tqdm\n",
    "from sklearn.preprocessing import MinMaxScaler\n",
    "from torch.utils.data import Dataset\n",
    "from sklearn.model_selection import train_test_split\n",
    "from torch.utils.data import DataLoader\n",
    "from torchnlp.nn import LockedDropout\n",
    "from sklearn.metrics import mean_absolute_error, mean_squared_error\n",
    "import torch\n",
    "import joblib\n",
    "import torch.nn as nn\n",
    "import matplotlib.pyplot as plt\n",
    "from torchinfo import summary\n",
    "import wandb\n",
    "device = torch.device(\"cuda\" if torch.cuda.is_available() else \"cpu\")"
   ]
  },
  {
   "cell_type": "code",
   "execution_count": null,
   "id": "sqd8Ssrh4Spb",
   "metadata": {
    "colab": {
     "base_uri": "https://localhost:8080/"
    },
    "id": "sqd8Ssrh4Spb",
    "outputId": "2e2d4d62-e96b-4b0c-9a80-1ef570308917"
   },
   "outputs": [
    {
     "name": "stdout",
     "output_type": "stream",
     "text": [
      "scaled_data loaded:\n"
     ]
    }
   ],
   "source": [
    "data = joblib.load(\"dataframe.pkl\")\n",
    "\n",
    "data.shape"
   ]
  },
  {
   "cell_type": "code",
   "execution_count": null,
   "id": "72742269-a9d0-4a8c-84a6-5c337df0acc6",
   "metadata": {
    "id": "72742269-a9d0-4a8c-84a6-5c337df0acc6"
   },
   "outputs": [],
   "source": [
    "class TimeSeriesDataset(Dataset):\n",
    "    def __init__(self, data, seq_length, prediction_horizon, scaler=None):\n",
    "\n",
    "        self.seq_length = seq_length\n",
    "        self.data = data\n",
    "        \n",
    "        if scaler:\n",
    "            self.data['Global_active_power'] = scaler.fit_transform(\n",
    "                self.data[['Global_active_power']].values\n",
    "            )\n",
    "        self.data = self.data.values\n",
    "        \n",
    "        self.X, self.y = self.create_sequences(self.data, seq_length, prediction_horizon)\n",
    "\n",
    "    def create_sequences(self, data, seq_length, prediction_horizon):\n",
    "        X, y = [], []\n",
    "        for i in tqdm(range(0, len(data) - seq_length - prediction_horizon), desc=\"Creating sequences\"):\n",
    "            X.append(data[i:i + seq_length, :]) \n",
    "            y.append(data[i + seq_length:i + seq_length + prediction_horizon, :]) \n",
    "        return np.array(X), np.array(y)\n",
    "\n",
    "    def __len__(self):\n",
    "        return len(self.X)\n",
    "\n",
    "    def __getitem__(self, idx):\n",
    "        return torch.tensor(self.X[idx], dtype=torch.float32), torch.tensor(self.y[idx], dtype=torch.float32)"
   ]
  },
  {
   "cell_type": "code",
   "execution_count": null,
   "id": "eaa0be0a-9635-4c7b-9635-71fe5aea46d5",
   "metadata": {
    "id": "eaa0be0a-9635-4c7b-9635-71fe5aea46d5"
   },
   "outputs": [],
   "source": [
    "train_size = int(len(data) * 0.8)  \n",
    "train_data = data[:train_size]\n",
    "test_data = data[train_size:]\n",
    "seq_length =  720\n",
    "prediction_horizon = 10\n"
   ]
  },
  {
   "cell_type": "code",
   "execution_count": null,
   "id": "54d7599d-6f32-4595-aee9-366e15a41c55",
   "metadata": {
    "colab": {
     "base_uri": "https://localhost:8080/"
    },
    "id": "54d7599d-6f32-4595-aee9-366e15a41c55",
    "outputId": "0098f114-b868-45bb-c2c9-bd5dd82081de"
   },
   "outputs": [
    {
     "name": "stderr",
     "output_type": "stream",
     "text": [
      "Creating sequences: 100%|██████████| 1659477/1659477 [00:01<00:00, 915504.51it/s]\n",
      "Creating sequences: 100%|██████████| 414322/414322 [00:00<00:00, 969513.81it/s]\n"
     ]
    }
   ],
   "source": [
    "scaler = MinMaxScaler()\n",
    "train_dataset = TimeSeriesDataset(train_data, seq_length, prediction_horizon, scaler=scaler)\n",
    "test_dataset = TimeSeriesDataset(test_data, seq_length, prediction_horizon, scaler=scaler)\n",
    "\n",
    "# Create DataLoaders\n",
    "batch_size = 1024\n",
    "train_loader = DataLoader(train_dataset, batch_size=batch_size, shuffle=True, num_workers=4)\n",
    "test_loader = DataLoader(test_dataset, batch_size=batch_size, shuffle=False, num_workers=4)"
   ]
  },
  {
   "cell_type": "code",
   "execution_count": 6,
   "id": "1cbe0f85-0509-4259-acd9-e7b6e7205e5f",
   "metadata": {
    "colab": {
     "base_uri": "https://localhost:8080/"
    },
    "id": "1cbe0f85-0509-4259-acd9-e7b6e7205e5f",
    "outputId": "c221676b-a9aa-4593-f817-e97637038db1"
   },
   "outputs": [
    {
     "name": "stdout",
     "output_type": "stream",
     "text": [
      "Train Batch X shape: torch.Size([1024, 720, 3])\n",
      "Train Batch y shape: torch.Size([1024, 10, 3])\n",
      "Test Batch X shape: torch.Size([1024, 720, 3])\n",
      "Test Batch y shape: torch.Size([1024, 10, 3])\n"
     ]
    }
   ],
   "source": [
    "for batch_X, batch_y in train_loader:\n",
    "    print(f\"Train Batch X shape: {batch_X.shape}\")  # (batch_size, seq_length, num_features)\n",
    "    print(f\"Train Batch y shape: {batch_y.shape}\")  # (batch_size, prediction_horizon)\n",
    "    break\n",
    "\n",
    "# Example: Iterate through the test DataLoader\n",
    "for batch_X, batch_y in test_loader:\n",
    "    print(f\"Test Batch X shape: {batch_X.shape}\")  # (batch_size, seq_length, num_features)\n",
    "    print(f\"Test Batch y shape: {batch_y.shape}\")  # (batch_size, prediction_horizon)\n",
    "    break"
   ]
  },
  {
   "cell_type": "code",
   "execution_count": null,
   "id": "fb719d56-ae68-46ee-b52d-1f74f7b42acd",
   "metadata": {
    "id": "fb719d56-ae68-46ee-b52d-1f74f7b42acd"
   },
   "outputs": [],
   "source": [
    "class Encoder(nn.Module):\n",
    "    def __init__(self, input_size, hidden_size, num_layers):\n",
    "        super(Encoder, self).__init__()\n",
    "        self.hidden_size = hidden_size\n",
    "        self.num_layers = num_layers\n",
    "        self.lstm = nn.LSTM(input_size, hidden_size, num_layers, batch_first=True, bidirectional=True)\n",
    "\n",
    "    def forward(self, x):\n",
    "\n",
    "        _, (h, c) = self.lstm(x)\n",
    "        return h, c\n",
    "\n",
    "\n",
    "class Decoder(nn.Module):\n",
    "    def __init__(self, hidden_size, input_size, num_layers, fcc_intermediate):\n",
    "        super(Decoder, self).__init__()\n",
    "        self.hidden_size = hidden_size\n",
    "        self.num_layers = num_layers\n",
    "\n",
    "\n",
    "        self.lstm = nn.LSTM(input_size, hidden_size, num_layers, batch_first=True)\n",
    "\n",
    "\n",
    "        # Fully connected layers\n",
    "        self.fc1 = nn.Linear(hidden_size, fcc_intermediate)\n",
    "        self.relu = nn.ReLU()\n",
    "        self.fc2 = nn.Linear(fcc_intermediate, 1)\n",
    "\n",
    "    def forward(self, decoder_input, h, c):\n",
    "\n",
    "        out, (h, c) = self.lstm(decoder_input, (h, c))\n",
    "        out = self.fc1(out[:, -1, :])\n",
    "        out = self.relu(out)\n",
    "        out = self.fc2(out)\n",
    "        return out, h, c\n",
    "\n",
    "\n",
    "class Model(nn.Module):\n",
    "    def __init__(self, input_size, hidden_size, num_layers, fcc_intermediate, prediction_horizon):\n",
    "        super(Model, self).__init__()\n",
    "        self.num_layers = num_layers\n",
    "        self.encoder = Encoder(input_size, hidden_size, num_layers)\n",
    "        self.decoder = Decoder(hidden_size, input_size, num_layers, fcc_intermediate)  \n",
    "        self.prediction_horizon = prediction_horizon\n",
    "\n",
    "    def forward(self, x, teacher_forcing_targets=None, teacher_forcing_ratio=0.5):\n",
    "\n",
    "        batch_size = x.size(0)\n",
    "\n",
    "        h, c = self.encoder(x)\n",
    "        num_directions = h.shape[0] // self.num_layers\n",
    "\n",
    "\n",
    "        h = h.view(self.num_layers, num_directions, h.shape[1], h.shape[2]) \n",
    "        c = c.view(self.num_layers, num_directions, c.shape[1], c.shape[2])\n",
    "\n",
    "\n",
    "        # print(h.shape)\n",
    "        h = h.sum(dim=1) \n",
    "        c = c.sum(dim=1)\n",
    "\n",
    "\n",
    "        decoder_input = x[:, -1, :].unsqueeze(1) \n",
    "        outputs = []\n",
    "\n",
    "        for t in range(self.prediction_horizon):\n",
    "            out, h, c = self.decoder(decoder_input, h, c)  \n",
    "            outputs.append(out)\n",
    "\n",
    "            if self.training and teacher_forcing_targets is not None and torch.rand(1).item() < teacher_forcing_ratio:\n",
    "                decoder_input = teacher_forcing_targets[:, t, :].unsqueeze(1) \n",
    "            else:\n",
    "                other_features = teacher_forcing_targets[:, t, 1:].unsqueeze(1)\n",
    "                predicted_power = out[:, :1].unsqueeze(1) \n",
    "                decoder_input = torch.cat([predicted_power, other_features], dim=-1)\n",
    "\n",
    "        return torch.cat(outputs, dim=1) \n"
   ]
  },
  {
   "cell_type": "code",
   "execution_count": null,
   "id": "85b0cfef-f727-4719-a15c-acc45a4044db",
   "metadata": {
    "id": "85b0cfef-f727-4719-a15c-acc45a4044db"
   },
   "outputs": [],
   "source": [
    "input_size = 3  # Number of features\n",
    "hidden_size = 64\n",
    "num_layers = 2\n",
    "fcc_intermdeiate = 8\n",
    "model = Model(input_size, hidden_size, num_layers, fcc_intermdeiate, prediction_horizon).to(device)\n",
    "\n",
    "\n",
    "summary(\n",
    "    model,\n",
    "    input_data=batch_X.to(device),\n",
    "    teacher_forcing_targets=batch_y.to(device)\n",
    ")"
   ]
  },
  {
   "cell_type": "code",
   "execution_count": 9,
   "id": "SBPmQC7S_X5J",
   "metadata": {
    "id": "SBPmQC7S_X5J"
   },
   "outputs": [],
   "source": [
    "# Define the custom loss function\n",
    "def combined_loss(predictions, targets, alpha=0.5):\n",
    "\n",
    "    mse_loss = nn.MSELoss()(predictions, targets)\n",
    "    mae_loss = nn.L1Loss()(predictions, targets)\n",
    "    return alpha * mse_loss + (1 - alpha) * mae_loss\n"
   ]
  },
  {
   "cell_type": "code",
   "execution_count": 10,
   "id": "c8d893f5-c40f-4ad6-ba2c-d5d911c65524",
   "metadata": {
    "id": "c8d893f5-c40f-4ad6-ba2c-d5d911c65524"
   },
   "outputs": [],
   "source": [
    "def train_epoch(model, train_loader, optimizer, device):\n",
    "\n",
    "    model.train()\n",
    "    train_loss = 0.0\n",
    "    for batch_X, batch_y in tqdm(train_loader, desc=\"Training\"):\n",
    "        batch_X, batch_y = batch_X.to(device), batch_y.to(device)\n",
    "\n",
    "        # Forward pass\n",
    "        outputs = model(batch_X, teacher_forcing_targets=batch_y)\n",
    "        loss = combined_loss(outputs, batch_y[:,:,0].squeeze())\n",
    "\n",
    "        # Backward pass and optimization\n",
    "        optimizer.zero_grad()\n",
    "        loss.backward()\n",
    "        optimizer.step()\n",
    "\n",
    "        train_loss += loss.item()\n",
    "\n",
    "    return train_loss / len(train_loader)\n",
    "\n",
    "\n",
    "def val_epoch(model, val_loader, device):\n",
    "\n",
    "    model.eval()\n",
    "    val_loss = 0.0\n",
    "    test_predictions = []\n",
    "    test_targets = []\n",
    "\n",
    "    with torch.no_grad():\n",
    "        for batch_X, batch_y in tqdm(val_loader, desc=\"Validation\"):\n",
    "            batch_X, batch_y = batch_X.to(device), batch_y.to(device)\n",
    "\n",
    "            outputs = model(batch_X, teacher_forcing_targets=batch_y)\n",
    "            loss = combined_loss(outputs, batch_y[:,:,0].squeeze())\n",
    "\n",
    "            val_loss += loss.item()\n",
    "\n",
    "            test_predictions.append(outputs.cpu().numpy())\n",
    "            test_targets.append(batch_y[:, :, 0].squeeze().cpu().numpy())\n",
    "\n",
    "\n",
    "    return val_loss / len(val_loader), test_predictions, test_targets\n",
    "\n"
   ]
  },
  {
   "cell_type": "code",
   "execution_count": 11,
   "id": "2psB5iOhdQFc",
   "metadata": {
    "colab": {
     "base_uri": "https://localhost:8080/",
     "height": 214
    },
    "id": "2psB5iOhdQFc",
    "outputId": "275b7bde-da1f-415c-dd59-397ab12cf87a"
   },
   "outputs": [
    {
     "name": "stderr",
     "output_type": "stream",
     "text": [
      "\u001b[34m\u001b[1mwandb\u001b[0m: Using wandb-core as the SDK backend.  Please refer to https://wandb.me/wandb-core for more information.\n",
      "\u001b[34m\u001b[1mwandb\u001b[0m: Currently logged in as: \u001b[33maaayush\u001b[0m (\u001b[33maaayush-carnegie-mellon-university\u001b[0m). Use \u001b[1m`wandb login --relogin`\u001b[0m to force relogin\n",
      "\u001b[34m\u001b[1mwandb\u001b[0m: \u001b[33mWARNING\u001b[0m If you're specifying your api key in code, ensure this code is not shared publicly.\n",
      "\u001b[34m\u001b[1mwandb\u001b[0m: \u001b[33mWARNING\u001b[0m Consider setting the WANDB_API_KEY environment variable, or running `wandb login` from the command line.\n",
      "\u001b[34m\u001b[1mwandb\u001b[0m: Appending key for api.wandb.ai to your netrc file: /root/.netrc\n"
     ]
    },
    {
     "data": {
      "text/html": [
       "Tracking run with wandb version 0.19.1"
      ],
      "text/plain": [
       "<IPython.core.display.HTML object>"
      ]
     },
     "metadata": {},
     "output_type": "display_data"
    },
    {
     "data": {
      "text/html": [
       "Run data is saved locally in <code>/content/wandb/run-20241227_185001-8qfg5yox</code>"
      ],
      "text/plain": [
       "<IPython.core.display.HTML object>"
      ]
     },
     "metadata": {},
     "output_type": "display_data"
    },
    {
     "data": {
      "text/html": [
       "Syncing run <strong><a href='https://wandb.ai/aaayush-carnegie-mellon-university/Power-Forcasting/runs/8qfg5yox' target=\"_blank\">dry-hill-6</a></strong> to <a href='https://wandb.ai/aaayush-carnegie-mellon-university/Power-Forcasting' target=\"_blank\">Weights & Biases</a> (<a href='https://wandb.me/developer-guide' target=\"_blank\">docs</a>)<br>"
      ],
      "text/plain": [
       "<IPython.core.display.HTML object>"
      ]
     },
     "metadata": {},
     "output_type": "display_data"
    },
    {
     "data": {
      "text/html": [
       " View project at <a href='https://wandb.ai/aaayush-carnegie-mellon-university/Power-Forcasting' target=\"_blank\">https://wandb.ai/aaayush-carnegie-mellon-university/Power-Forcasting</a>"
      ],
      "text/plain": [
       "<IPython.core.display.HTML object>"
      ]
     },
     "metadata": {},
     "output_type": "display_data"
    },
    {
     "data": {
      "text/html": [
       " View run at <a href='https://wandb.ai/aaayush-carnegie-mellon-university/Power-Forcasting/runs/8qfg5yox' target=\"_blank\">https://wandb.ai/aaayush-carnegie-mellon-university/Power-Forcasting/runs/8qfg5yox</a>"
      ],
      "text/plain": [
       "<IPython.core.display.HTML object>"
      ]
     },
     "metadata": {},
     "output_type": "display_data"
    }
   ],
   "source": [
    "wandb.login(key=\"7664f3b17a98ffe7c64b549e349123b61a9d3024\")\n",
    "run = wandb.init(\n",
    "    reinit = False, ### Allows reinitalizing runs when you re-run this cell\n",
    "    # run_id = ### Insert specific run id here if you want to resume a previous run\n",
    "    # resume = \"must\" ### You need this to resume previous runs, but comment out reinit = True when using this\n",
    "    project = \"Power-Forcasting\", ### Project should be created in your wandb account\n",
    ")"
   ]
  },
  {
   "cell_type": "code",
   "execution_count": 12,
   "id": "911a5600-36bf-40e8-bac9-bc50a54f85d2",
   "metadata": {
    "colab": {
     "base_uri": "https://localhost:8080/",
     "height": 680
    },
    "id": "911a5600-36bf-40e8-bac9-bc50a54f85d2",
    "outputId": "38c41a7b-c1dd-4e6d-dc4d-c86c6a38fa44"
   },
   "outputs": [
    {
     "name": "stderr",
     "output_type": "stream",
     "text": [
      "Training: 100%|██████████| 1621/1621 [08:13<00:00,  3.28it/s]\n",
      "Validation: 100%|██████████| 405/405 [00:45<00:00,  8.97it/s]\n"
     ]
    },
    {
     "name": "stdout",
     "output_type": "stream",
     "text": [
      "Epoch [1/20], Train Loss: 0.0146, Val Loss: 0.0110, Curr LR: 0.0001\n"
     ]
    },
    {
     "name": "stderr",
     "output_type": "stream",
     "text": [
      "Training: 100%|██████████| 1621/1621 [08:14<00:00,  3.28it/s]\n",
      "Validation: 100%|██████████| 405/405 [00:45<00:00,  8.96it/s]\n"
     ]
    },
    {
     "name": "stdout",
     "output_type": "stream",
     "text": [
      "Epoch [2/20], Train Loss: 0.0090, Val Loss: 0.0113, Curr LR: 0.0001\n"
     ]
    },
    {
     "name": "stderr",
     "output_type": "stream",
     "text": [
      "Training: 100%|██████████| 1621/1621 [08:12<00:00,  3.29it/s]\n",
      "Validation: 100%|██████████| 405/405 [00:45<00:00,  8.98it/s]\n"
     ]
    },
    {
     "name": "stdout",
     "output_type": "stream",
     "text": [
      "Epoch [3/20], Train Loss: 0.0082, Val Loss: 0.0108, Curr LR: 5e-05\n"
     ]
    },
    {
     "name": "stderr",
     "output_type": "stream",
     "text": [
      "Training: 100%|██████████| 1621/1621 [08:12<00:00,  3.29it/s]\n",
      "Validation: 100%|██████████| 405/405 [00:45<00:00,  8.93it/s]\n"
     ]
    },
    {
     "name": "stdout",
     "output_type": "stream",
     "text": [
      "Epoch [4/20], Train Loss: 0.0078, Val Loss: 0.0108, Curr LR: 5e-05\n"
     ]
    },
    {
     "name": "stderr",
     "output_type": "stream",
     "text": [
      "Training: 100%|██████████| 1621/1621 [08:12<00:00,  3.29it/s]\n",
      "Validation: 100%|██████████| 405/405 [00:45<00:00,  8.93it/s]\n"
     ]
    },
    {
     "name": "stdout",
     "output_type": "stream",
     "text": [
      "Epoch [5/20], Train Loss: 0.0075, Val Loss: 0.0105, Curr LR: 2.5e-05\n"
     ]
    },
    {
     "name": "stderr",
     "output_type": "stream",
     "text": [
      "Training: 100%|██████████| 1621/1621 [08:12<00:00,  3.29it/s]\n",
      "Validation: 100%|██████████| 405/405 [00:45<00:00,  8.90it/s]\n"
     ]
    },
    {
     "name": "stdout",
     "output_type": "stream",
     "text": [
      "Epoch [6/20], Train Loss: 0.0074, Val Loss: 0.0104, Curr LR: 2.5e-05\n"
     ]
    },
    {
     "name": "stderr",
     "output_type": "stream",
     "text": [
      "Training:   6%|▌         | 90/1621 [00:28<07:57,  3.21it/s]\n"
     ]
    },
    {
     "ename": "KeyboardInterrupt",
     "evalue": "",
     "output_type": "error",
     "traceback": [
      "\u001b[0;31m---------------------------------------------------------------------------\u001b[0m",
      "\u001b[0;31mKeyboardInterrupt\u001b[0m                         Traceback (most recent call last)",
      "\u001b[0;32m<ipython-input-12-76aa6d943f88>\u001b[0m in \u001b[0;36m<cell line: 12>\u001b[0;34m()\u001b[0m\n\u001b[1;32m     12\u001b[0m \u001b[0;32mfor\u001b[0m \u001b[0mepoch\u001b[0m \u001b[0;32min\u001b[0m \u001b[0mrange\u001b[0m\u001b[0;34m(\u001b[0m\u001b[0mnum_epochs\u001b[0m\u001b[0;34m)\u001b[0m\u001b[0;34m:\u001b[0m\u001b[0;34m\u001b[0m\u001b[0;34m\u001b[0m\u001b[0m\n\u001b[1;32m     13\u001b[0m     \u001b[0;31m# Train for one epoch\u001b[0m\u001b[0;34m\u001b[0m\u001b[0;34m\u001b[0m\u001b[0m\n\u001b[0;32m---> 14\u001b[0;31m     \u001b[0mavg_train_loss\u001b[0m \u001b[0;34m=\u001b[0m \u001b[0mtrain_epoch\u001b[0m\u001b[0;34m(\u001b[0m\u001b[0mmodel\u001b[0m\u001b[0;34m,\u001b[0m \u001b[0mtrain_loader\u001b[0m\u001b[0;34m,\u001b[0m \u001b[0moptimizer\u001b[0m\u001b[0;34m,\u001b[0m \u001b[0mdevice\u001b[0m\u001b[0;34m)\u001b[0m\u001b[0;34m\u001b[0m\u001b[0;34m\u001b[0m\u001b[0m\n\u001b[0m\u001b[1;32m     15\u001b[0m     \u001b[0mtrain_losses\u001b[0m\u001b[0;34m.\u001b[0m\u001b[0mappend\u001b[0m\u001b[0;34m(\u001b[0m\u001b[0mavg_train_loss\u001b[0m\u001b[0;34m)\u001b[0m\u001b[0;34m\u001b[0m\u001b[0;34m\u001b[0m\u001b[0m\n\u001b[1;32m     16\u001b[0m \u001b[0;34m\u001b[0m\u001b[0m\n",
      "\u001b[0;32m<ipython-input-10-3174c8811d9b>\u001b[0m in \u001b[0;36mtrain_epoch\u001b[0;34m(model, train_loader, optimizer, device)\u001b[0m\n\u001b[1;32m     15\u001b[0m         \u001b[0moptimizer\u001b[0m\u001b[0;34m.\u001b[0m\u001b[0mstep\u001b[0m\u001b[0;34m(\u001b[0m\u001b[0;34m)\u001b[0m\u001b[0;34m\u001b[0m\u001b[0;34m\u001b[0m\u001b[0m\n\u001b[1;32m     16\u001b[0m \u001b[0;34m\u001b[0m\u001b[0m\n\u001b[0;32m---> 17\u001b[0;31m         \u001b[0mtrain_loss\u001b[0m \u001b[0;34m+=\u001b[0m \u001b[0mloss\u001b[0m\u001b[0;34m.\u001b[0m\u001b[0mitem\u001b[0m\u001b[0;34m(\u001b[0m\u001b[0;34m)\u001b[0m\u001b[0;34m\u001b[0m\u001b[0;34m\u001b[0m\u001b[0m\n\u001b[0m\u001b[1;32m     18\u001b[0m \u001b[0;34m\u001b[0m\u001b[0m\n\u001b[1;32m     19\u001b[0m     \u001b[0;32mreturn\u001b[0m \u001b[0mtrain_loss\u001b[0m \u001b[0;34m/\u001b[0m \u001b[0mlen\u001b[0m\u001b[0;34m(\u001b[0m\u001b[0mtrain_loader\u001b[0m\u001b[0;34m)\u001b[0m\u001b[0;34m\u001b[0m\u001b[0;34m\u001b[0m\u001b[0m\n",
      "\u001b[0;31mKeyboardInterrupt\u001b[0m: "
     ]
    }
   ],
   "source": [
    "learning_rate = 0.0001\n",
    "num_epochs = 20\n",
    "\n",
    "optimizer = torch.optim.Adam(model.parameters(), lr=learning_rate )\n",
    "scheduler = torch.optim.lr_scheduler.ReduceLROnPlateau(optimizer, mode=\"min\", factor=0.5, patience=0)\n",
    "\n",
    "\n",
    "# Training and Validation\n",
    "train_losses = []\n",
    "val_losses = []\n",
    "\n",
    "for epoch in range(num_epochs):\n",
    "    # Train for one epoch\n",
    "    avg_train_loss = train_epoch(model, train_loader, optimizer, device)\n",
    "    train_losses.append(avg_train_loss)\n",
    "\n",
    "    # Validate for one epoch\n",
    "    avg_val_loss, test_predictions, test_targets = val_epoch(model, test_loader, device)\n",
    "    val_losses.append(avg_val_loss)\n",
    "\n",
    "    # Log epoch results\n",
    "    print(f\"Epoch [{epoch+1}/{num_epochs}], Train Loss: {avg_train_loss:.4f}, Val Loss: {avg_val_loss:.4f}, Curr LR: {float(optimizer.param_groups[0]['lr'])}\")\n",
    "\n",
    "    scheduler.step(avg_val_loss)\n",
    "\n",
    "run.finish()\n"
   ]
  },
  {
   "cell_type": "code",
   "execution_count": 13,
   "id": "8bc033cd-8976-4e39-9c78-e5bb2183f134",
   "metadata": {
    "colab": {
     "base_uri": "https://localhost:8080/"
    },
    "id": "8bc033cd-8976-4e39-9c78-e5bb2183f134",
    "outputId": "4f961711-ea9f-4edb-b866-26cdfd2cf071"
   },
   "outputs": [
    {
     "name": "stdout",
     "output_type": "stream",
     "text": [
      "Mean Absolute Error (MAE): 0.2116\n",
      "Root Mean Squared Error (RMSE): 0.4605\n",
      "Mean Absolute Percentage Error (MAPE): 26.50%\n"
     ]
    }
   ],
   "source": [
    "def evaluate_predictions(scaler, test_predictions, test_targets):\n",
    "\n",
    "    # Concatenate predictions and targets across all batches\n",
    "    predictions = np.concatenate(test_predictions, axis=0)  # Shape: (num_samples, prediction_horizon)\n",
    "    targets = np.concatenate(test_targets, axis=0)  # Shape: (num_samples, prediction_horizon)\n",
    "\n",
    "    # Reshape to match scaler's expected input shape: (num_samples * prediction_horizon, 1)\n",
    "    predictions = predictions.reshape(-1, 1)\n",
    "    targets = targets.reshape(-1, 1)\n",
    "\n",
    "    # Rescale predictions and targets to their original range\n",
    "    predictions_rescaled = scaler.inverse_transform(predictions)\n",
    "    targets_rescaled = scaler.inverse_transform(targets)\n",
    "\n",
    "    # Compute evaluation metrics\n",
    "    mae = mean_absolute_error(targets_rescaled, predictions_rescaled)\n",
    "    rmse = np.sqrt(mean_squared_error(targets_rescaled, predictions_rescaled))\n",
    "    mape = np.mean(np.abs((targets_rescaled - predictions_rescaled) / targets_rescaled)) * 100\n",
    "\n",
    "    return {\n",
    "        \"MAE\": mae,\n",
    "        \"RMSE\": rmse,\n",
    "        \"MAPE\": mape\n",
    "    }\n",
    "\n",
    "\n",
    "metrics = evaluate_predictions(scaler, test_predictions, test_targets)\n",
    "\n",
    "print(f\"Mean Absolute Error (MAE): {metrics['MAE']:.4f}\")\n",
    "print(f\"Root Mean Squared Error (RMSE): {metrics['RMSE']:.4f}\")\n",
    "print(f\"Mean Absolute Percentage Error (MAPE): {metrics['MAPE']:.2f}%\")\n"
   ]
  },
  {
   "cell_type": "code",
   "execution_count": 14,
   "id": "2e0sIqvYCR9A",
   "metadata": {
    "colab": {
     "base_uri": "https://localhost:8080/",
     "height": 564
    },
    "id": "2e0sIqvYCR9A",
    "outputId": "7d6cf6eb-6ecd-4529-86a6-59674c325c56"
   },
   "outputs": [
    {
     "data": {
      "image/png": "[encoded data removed]",
      "text/plain": [
       "<Figure size 1000x600 with 1 Axes>"
      ]
     },
     "metadata": {},
     "output_type": "display_data"
    }
   ],
   "source": [
    "predictions = np.concatenate(test_predictions, axis=0)\n",
    "targets = np.concatenate(test_targets, axis=0)\n",
    "\n",
    "predictions = predictions.reshape(-1, 1)\n",
    "targets = targets.reshape(-1, 1)\n",
    "\n",
    "# Rescale for visualization\n",
    "predictions_rescaled = scaler.inverse_transform(predictions)\n",
    "targets_rescaled = scaler.inverse_transform(targets)\n",
    "\n",
    "# Plot predictions vs actual values\n",
    "plt.figure(figsize=(10, 6))\n",
    "plt.plot(targets_rescaled[:100], label='Actual')\n",
    "plt.plot(predictions_rescaled[:100], label='Predicted')\n",
    "plt.xlabel('Time Steps')\n",
    "plt.ylabel('Global Active Power')\n",
    "plt.title('Predictions vs Actual')\n",
    "plt.legend()\n",
    "plt.show()"
   ]
  },
  {
   "cell_type": "code",
   "execution_count": 15,
   "id": "mGQQBYGJCSoM",
   "metadata": {
    "id": "mGQQBYGJCSoM"
   },
   "outputs": [],
   "source": [
    "torch.save(model.state_dict(), \"lstm_model.pth\")"
   ]
  }
 ],
 "metadata": {
  "colab": {
   "provenance": []
  },
  "kernelspec": {
   "display_name": "Python 3 (ipykernel)",
   "language": "python",
   "name": "python3"
  },
  "language_info": {
   "codemirror_mode": {
    "name": "ipython",
    "version": 3
   },
   "file_extension": ".py",
   "mimetype": "text/x-python",
   "name": "python",
   "nbconvert_exporter": "python",
   "pygments_lexer": "ipython3",
   "version": "3.11.5"
  }
 },
 "nbformat": 4,
 "nbformat_minor": 5
}
